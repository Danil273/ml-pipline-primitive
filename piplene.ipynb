{
 "cells": [
  {
   "attachments": {},
   "cell_type": "markdown",
   "metadata": {},
   "source": [
    "## Генерируем данные"
   ]
  },
  {
   "cell_type": "code",
   "execution_count": 306,
   "metadata": {},
   "outputs": [],
   "source": [
    "import numpy as np \n",
    "import pandas as pd\n",
    "import os"
   ]
  },
  {
   "cell_type": "code",
   "execution_count": 307,
   "metadata": {},
   "outputs": [],
   "source": [
    "def true_fun(x, a=np.pi, b = 0, f=np.sin): \n",
    "    x = np.atleast_1d(x)[:] \n",
    "    a = np.atleast_1d(a)\n",
    "    \n",
    "    f = lambda x:x \n",
    "    x = np.sum([ai*np.power(x, i+1) for i,ai in enumerate(a)],axis=0)\n",
    "\n",
    "    return f(x+ b)\n",
    "\n",
    "def noises(shape , noise_power):\n",
    "    return np.random.randn(*shape) *noise_power \n",
    "                                            \n",
    "\n",
    "def dataset(a, b, N = 250, x_max =1, noise_power = 0, seed = 42):\n",
    "    np.random.seed(seed) \n",
    "    x = np.linspace(0,x_max,N)\n",
    "    y_true = np.array([]) \n",
    "    f = None\n",
    "    for f_ in np.append([], f): \n",
    "        y_true=np.append(y_true, true_fun(x, a, b, f_)) \n",
    "    y_true = y_true.reshape(-1,N).T\n",
    "    y = y_true + noises(y_true.shape , noise_power) \n",
    "    y = y *3 + 10\n",
    "    x = x * 10\n",
    "    return {'Time': list([t[0] for t in np.atleast_2d(x).T]), 'Temperature': list([t[0] for t in y])}  "
   ]
  },
  {
   "cell_type": "code",
   "execution_count": 310,
   "metadata": {},
   "outputs": [],
   "source": [
    "if(not os.path.exists(\"train\")):\n",
    "   os.mkdir(\"train\")\n",
    "\n",
    "if(not os.path.exists(\"test\")):\n",
    "   os.mkdir(\"test\")"
   ]
  },
  {
   "attachments": {},
   "cell_type": "markdown",
   "metadata": {},
   "source": [
    "Пускай будет три тренировочных набора, один тестовый"
   ]
  },
  {
   "cell_type": "code",
   "execution_count": 311,
   "metadata": {},
   "outputs": [],
   "source": [
    "train1 = dataset(a = [3,-1,-2], b = 1, N = 360, x_max =1.2, noise_power = 0.05)\n",
    "pd.DataFrame(data=train1, columns=['Time', 'Temperature']).to_csv(\"train/train 1.csv\", sep=',')"
   ]
  },
  {
   "cell_type": "code",
   "execution_count": 312,
   "metadata": {},
   "outputs": [],
   "source": [
    "train2 = dataset(a = [3,-1,-2], b = 1, N = 360, x_max =1.2, noise_power = 0.15,seed = 45)\n",
    "pd.DataFrame(train2, columns=['Time', 'Temperature']).to_csv(\"train/train 2.csv\", sep=',')"
   ]
  },
  {
   "cell_type": "code",
   "execution_count": 313,
   "metadata": {},
   "outputs": [],
   "source": [
    "train3 = dataset(a = [3,-1,-2], b = 1, N = 360, x_max =1.2,seed = 43)\n",
    "pd.DataFrame(train3, columns=['Time', 'Temperature']).to_csv(\"train/train 3.csv\", sep=',')"
   ]
  },
  {
   "cell_type": "code",
   "execution_count": 314,
   "metadata": {},
   "outputs": [],
   "source": [
    "test = dataset(a = [3,-1,-2], b = 1, N = 360, x_max =1.2, noise_power = 0.05, seed = 41)\n",
    "pd.DataFrame(test, columns=['Time', 'Temperature']).to_csv(\"test/test 1.csv\", sep=',')"
   ]
  },
  {
   "attachments": {},
   "cell_type": "markdown",
   "metadata": {},
   "source": [
    "## Препроцессинг"
   ]
  },
  {
   "cell_type": "code",
   "execution_count": 315,
   "metadata": {},
   "outputs": [],
   "source": [
    "from sklearn import preprocessing\n",
    "import itertools\n",
    "import numpy as np \n",
    "import pandas as pd\n",
    "import os"
   ]
  },
  {
   "cell_type": "code",
   "execution_count": 316,
   "metadata": {},
   "outputs": [],
   "source": [
    "path1 = 'test'\n",
    "path2 = 'train'\n",
    "is_first = True\n",
    "\n",
    "for path, dirs, files in itertools.chain(os.walk(path1), os.walk(path2)):\n",
    "    for filename in files:            \n",
    "        data = pd.read_csv('{0}/{1}'.format(path,filename),index_col=0)\n",
    "        array = np.array(data.Time).reshape(-1, 1)\n",
    "        if (is_first):\n",
    "            scaler = preprocessing.StandardScaler().fit(array)\n",
    "            is_first = False\n",
    "        data[\"Time\"]  = scaler.transform(array)\n",
    "        data.to_csv('{0}/{1}'.format(path,filename), sep=',')\n"
   ]
  },
  {
   "attachments": {},
   "cell_type": "markdown",
   "metadata": {},
   "source": [
    "## Обучение модели"
   ]
  },
  {
   "cell_type": "code",
   "execution_count": 317,
   "metadata": {},
   "outputs": [],
   "source": [
    "from sklearn.linear_model import LinearRegression\n",
    "import pickle\n",
    "import numpy as np \n",
    "import pandas as pd\n",
    "import os"
   ]
  },
  {
   "cell_type": "code",
   "execution_count": 318,
   "metadata": {},
   "outputs": [],
   "source": [
    "def to_polynom(x, order = 1, add_bias = False):\n",
    "    order_range = range( 0 if add_bias else 1, order+1,1)\n",
    "    x = np.atleast_1d(x)[:]    \n",
    "    out = np.array([])\n",
    "    for i in order_range:\n",
    "        out = np.append(out, np.power(x,i))\n",
    "    return out.reshape(-1, x.size).T"
   ]
  },
  {
   "cell_type": "code",
   "execution_count": 319,
   "metadata": {},
   "outputs": [],
   "source": [
    "path = 'train'\n",
    "train_data = []\n",
    "for path, dirs, files in os.walk(path):\n",
    "    for filename in files:      \n",
    "        train_data.append(pd.read_csv('{0}/{1}'.format(path,filename),index_col=0))\n",
    "\n",
    "train_data = pd.concat(train_data, axis = 0,ignore_index=True)\n",
    "X = np.array(train_data.Time).reshape(-1, 1)\n",
    "y = np.array(train_data.Temperature).reshape(-1, 1)\n",
    "x_pol = to_polynom(X, order = 3)\n",
    "reg = LinearRegression().fit(x_pol, y)\n"
   ]
  },
  {
   "cell_type": "code",
   "execution_count": 321,
   "metadata": {},
   "outputs": [],
   "source": [
    "filename = 'model.sav'\n",
    "pickle.dump(reg, open(filename, 'wb'))"
   ]
  },
  {
   "attachments": {},
   "cell_type": "markdown",
   "metadata": {},
   "source": [
    "## Тестирование модели"
   ]
  },
  {
   "cell_type": "code",
   "execution_count": 326,
   "metadata": {},
   "outputs": [],
   "source": [
    "from sklearn.linear_model import LinearRegression\n",
    "import pickle"
   ]
  },
  {
   "cell_type": "code",
   "execution_count": 327,
   "metadata": {},
   "outputs": [],
   "source": [
    "filename = 'model.sav'\n",
    "loaded_model = pickle.load(open(filename, 'rb'))"
   ]
  },
  {
   "cell_type": "code",
   "execution_count": 328,
   "metadata": {},
   "outputs": [
    {
     "name": "stdout",
     "output_type": "stream",
     "text": [
      "0.9762913072791282\n"
     ]
    }
   ],
   "source": [
    "result = loaded_model.score(x_pol, y)\n",
    "print(result)"
   ]
  }
 ],
 "metadata": {
  "kernelspec": {
   "display_name": "Python 3",
   "language": "python",
   "name": "python3"
  },
  "language_info": {
   "codemirror_mode": {
    "name": "ipython",
    "version": 3
   },
   "file_extension": ".py",
   "mimetype": "text/x-python",
   "name": "python",
   "nbconvert_exporter": "python",
   "pygments_lexer": "ipython3",
   "version": "3.10.2"
  },
  "orig_nbformat": 4,
  "vscode": {
   "interpreter": {
    "hash": "e450050b432e843bda3c41bf3272c133bfc370a7003f3e377e27f87a49ce1127"
   }
  }
 },
 "nbformat": 4,
 "nbformat_minor": 2
}
